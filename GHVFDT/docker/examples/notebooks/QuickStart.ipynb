{
 "cells": [
  {
   "cell_type": "markdown",
   "metadata": {},
   "source": [
    "# Scikit-multiflow"
   ]
  },
  {
   "cell_type": "markdown",
   "metadata": {},
   "source": [
    "`scikit-multiflow` is an open source framework for multi-output/multi-label\n",
    "and stream data mining. It is being developed by  **Télécom ParisTech**,\n",
    "**École Polytechique** and the **University of Waikato**. For more details,\n",
    "please visit the page of the [framework](https://scikit-multiflow.github.io/)."
   ]
  },
  {
   "cell_type": "markdown",
   "metadata": {},
   "source": [
    "### Classification in Data Streams"
   ]
  },
  {
   "cell_type": "markdown",
   "metadata": {},
   "source": [
    "The goal is making predictions in a data stream using the `scikit-multiflow`\n",
    "framework. In this notebook we will use two stream classifiers on the \n",
    "`Electricity` dataset:\n",
    "\n",
    "- kNN\n",
    "- Hoeffding Tree"
   ]
  },
  {
   "cell_type": "markdown",
   "metadata": {},
   "source": [
    "### Evaluation"
   ]
  },
  {
   "cell_type": "markdown",
   "metadata": {},
   "source": [
    "The following piece of code evaluates classifiers and gives the online\n",
    "visualization. It computes the current and global values for `accuracy` and\n",
    "`kappa`. The \"current\" value of a selected evaluation measure represents the\n",
    "performance of the model on the current window and the \"global\" value\n",
    "represents the performance of the model on the whole data stream.\n",
    "`EvaluatePrequential` also gives the summary of evaluation showing the\n",
    "`Evaluation Time`."
   ]
  },
  {
   "cell_type": "code",
   "execution_count": 1,
   "metadata": {},
   "outputs": [],
   "source": [
    "%matplotlib notebook"
   ]
  },
  {
   "cell_type": "code",
   "execution_count": null,
   "metadata": {},
   "outputs": [],
   "source": [
    "from skmultiflow.trees import HoeffdingTreeClassifier\n",
    "from skmultiflow.lazy import KNNClassifier\n",
    "from skmultiflow.evaluation.evaluate_prequential import EvaluatePrequential\n",
    "from skmultiflow.data.file_stream import FileStream\n",
    "\n",
    "import matplotlib as plt\n",
    "\n",
    "plt.interactive(True)\n",
    "\n",
    "\n",
    "# Create a stream\n",
    "stream = FileStream(\"./elec.csv\")\n",
    "stream.prepare_for_use()   # Not required for v0.5.0+\n",
    "\n",
    "# Instantiate the KNNClassifier and HoeffdingTreeClassifier\n",
    "h = [\n",
    "        KNNClassifier(n_neighbors=10, max_window_size=100, leaf_size=30),\n",
    "        HoeffdingTreeClassifier()\n",
    "     ]\n",
    "\n",
    "# Setup the evaluator\n",
    "evaluator = EvaluatePrequential(pretrain_size=1000,\n",
    "                                max_samples=20000,\n",
    "                                show_plot=True, \n",
    "                                metrics=['accuracy', 'kappa'], \n",
    "                                batch_size=1)\n",
    "\n",
    "# Run\n",
    "evaluator.evaluate(stream=stream, model=h, model_names=[\"kNN\", \"HT\"])"
   ]
  }
 ],
 "metadata": {
  "kernelspec": {
   "display_name": "Python 3",
   "language": "python",
   "name": "python3"
  },
  "language_info": {
   "codemirror_mode": {
    "name": "ipython",
    "version": 3
   },
   "file_extension": ".py",
   "mimetype": "text/x-python",
   "name": "python",
   "nbconvert_exporter": "python",
   "pygments_lexer": "ipython3",
   "version": "3.5.2"
  },
  "pycharm": {
   "stem_cell": {
    "cell_type": "raw",
    "source": [],
    "metadata": {
     "collapsed": false
    }
   }
  }
 },
 "nbformat": 4,
 "nbformat_minor": 2
}